{
 "cells": [
  {
   "cell_type": "markdown",
   "id": "7fab167f",
   "metadata": {},
   "source": [
    "# resizing image"
   ]
  },
  {
   "cell_type": "code",
   "execution_count": 2,
   "id": "a545e13a",
   "metadata": {},
   "outputs": [
    {
     "data": {
      "text/plain": [
       "array([[[ 45,  61,  50],\n",
       "        [ 45,  61,  50],\n",
       "        [ 44,  60,  49],\n",
       "        ...,\n",
       "        [ 54,  78,  66],\n",
       "        [ 54,  78,  66],\n",
       "        [ 54,  78,  66]],\n",
       "\n",
       "       [[ 45,  61,  50],\n",
       "        [ 44,  60,  49],\n",
       "        [ 44,  60,  49],\n",
       "        ...,\n",
       "        [ 54,  78,  66],\n",
       "        [ 54,  78,  66],\n",
       "        [ 54,  78,  66]],\n",
       "\n",
       "       [[ 44,  60,  49],\n",
       "        [ 43,  59,  48],\n",
       "        [ 43,  59,  48],\n",
       "        ...,\n",
       "        [ 55,  79,  67],\n",
       "        [ 55,  79,  67],\n",
       "        [ 55,  79,  67]],\n",
       "\n",
       "       ...,\n",
       "\n",
       "       [[ 36,  54,  47],\n",
       "        [ 36,  54,  47],\n",
       "        [ 35,  53,  46],\n",
       "        ...,\n",
       "        [ 76, 109,  95],\n",
       "        [ 76, 109,  95],\n",
       "        [ 76, 109,  95]],\n",
       "\n",
       "       [[ 36,  54,  47],\n",
       "        [ 36,  54,  47],\n",
       "        [ 35,  53,  46],\n",
       "        ...,\n",
       "        [ 76, 109,  95],\n",
       "        [ 76, 109,  95],\n",
       "        [ 76, 109,  95]],\n",
       "\n",
       "       [[ 36,  54,  47],\n",
       "        [ 36,  54,  47],\n",
       "        [ 35,  53,  46],\n",
       "        ...,\n",
       "        [ 76, 109,  95],\n",
       "        [ 76, 109,  95],\n",
       "        [ 76, 109,  95]]], shape=(168, 300, 3), dtype=uint8)"
      ]
     },
     "execution_count": 2,
     "metadata": {},
     "output_type": "execute_result"
    }
   ],
   "source": [
    "import os \n",
    "import cv2\n",
    "\n",
    "img=cv2.imread('image.jpg')\n",
    "img"
   ]
  },
  {
   "cell_type": "code",
   "execution_count": 8,
   "id": "1842c57f",
   "metadata": {},
   "outputs": [
    {
     "data": {
      "text/plain": [
       "113"
      ]
     },
     "execution_count": 8,
     "metadata": {},
     "output_type": "execute_result"
    }
   ],
   "source": [
    "resized_img=cv2.resize(img,(800,800))\n",
    "cv2.imshow('img',resized_img)\n",
    "cv2.waitKey(0)"
   ]
  },
  {
   "cell_type": "code",
   "execution_count": 4,
   "id": "1474d48e",
   "metadata": {},
   "outputs": [
    {
     "data": {
      "text/plain": [
       "-1"
      ]
     },
     "execution_count": 4,
     "metadata": {},
     "output_type": "execute_result"
    }
   ],
   "source": [
    "cv2.imshow('frame',img)\n",
    "cv2.waitKey(0)"
   ]
  },
  {
   "cell_type": "markdown",
   "id": "895a0c20",
   "metadata": {},
   "source": [
    "# crop"
   ]
  },
  {
   "cell_type": "code",
   "execution_count": 9,
   "id": "1686750b",
   "metadata": {},
   "outputs": [
    {
     "data": {
      "text/plain": [
       "array([[[ 45,  61,  50],\n",
       "        [ 45,  61,  50],\n",
       "        [ 44,  60,  49],\n",
       "        ...,\n",
       "        [ 54,  78,  66],\n",
       "        [ 54,  78,  66],\n",
       "        [ 54,  78,  66]],\n",
       "\n",
       "       [[ 45,  61,  50],\n",
       "        [ 44,  60,  49],\n",
       "        [ 44,  60,  49],\n",
       "        ...,\n",
       "        [ 54,  78,  66],\n",
       "        [ 54,  78,  66],\n",
       "        [ 54,  78,  66]],\n",
       "\n",
       "       [[ 44,  60,  49],\n",
       "        [ 43,  59,  48],\n",
       "        [ 43,  59,  48],\n",
       "        ...,\n",
       "        [ 55,  79,  67],\n",
       "        [ 55,  79,  67],\n",
       "        [ 55,  79,  67]],\n",
       "\n",
       "       ...,\n",
       "\n",
       "       [[ 36,  54,  47],\n",
       "        [ 36,  54,  47],\n",
       "        [ 35,  53,  46],\n",
       "        ...,\n",
       "        [ 76, 109,  95],\n",
       "        [ 76, 109,  95],\n",
       "        [ 76, 109,  95]],\n",
       "\n",
       "       [[ 36,  54,  47],\n",
       "        [ 36,  54,  47],\n",
       "        [ 35,  53,  46],\n",
       "        ...,\n",
       "        [ 76, 109,  95],\n",
       "        [ 76, 109,  95],\n",
       "        [ 76, 109,  95]],\n",
       "\n",
       "       [[ 36,  54,  47],\n",
       "        [ 36,  54,  47],\n",
       "        [ 35,  53,  46],\n",
       "        ...,\n",
       "        [ 76, 109,  95],\n",
       "        [ 76, 109,  95],\n",
       "        [ 76, 109,  95]]], shape=(168, 300, 3), dtype=uint8)"
      ]
     },
     "execution_count": 9,
     "metadata": {},
     "output_type": "execute_result"
    }
   ],
   "source": [
    "import cv2 \n",
    "import os\n",
    "\n",
    "img1=cv2.imread('image.jpg')\n",
    "img1"
   ]
  },
  {
   "cell_type": "code",
   "execution_count": 11,
   "id": "50d6eac0",
   "metadata": {},
   "outputs": [
    {
     "data": {
      "text/plain": [
       "(168, 300, 3)"
      ]
     },
     "execution_count": 11,
     "metadata": {},
     "output_type": "execute_result"
    }
   ],
   "source": [
    "img.shape"
   ]
  },
  {
   "cell_type": "code",
   "execution_count": 33,
   "id": "9a1a33f0",
   "metadata": {},
   "outputs": [
    {
     "data": {
      "text/plain": [
       "-1"
      ]
     },
     "execution_count": 33,
     "metadata": {},
     "output_type": "execute_result"
    }
   ],
   "source": [
    "cropped_img=img[20:150,50:250]\n",
    "cv2.imshow('cropped_img',cropped_img)\n",
    "cv2.waitKey(0)"
   ]
  },
  {
   "cell_type": "markdown",
   "id": "31bc323f",
   "metadata": {},
   "source": [
    "# Color spaces"
   ]
  },
  {
   "cell_type": "code",
   "execution_count": 1,
   "id": "f39019a2",
   "metadata": {},
   "outputs": [],
   "source": [
    "import os \n",
    "import cv2\n",
    "\n",
    "img=cv2.imread('image.jpg')\n"
   ]
  },
  {
   "cell_type": "code",
   "execution_count": 4,
   "id": "9ac53a26",
   "metadata": {},
   "outputs": [],
   "source": [
    "img_rgb=cv2.cvtColor(img,cv2.COLOR_BGR2RGB)\n",
    "img_grey=cv2.cvtColor(img,cv2.COLOR_BGR2GRAY)\n",
    "img_HSV=cv2.cvtColor(img,cv2.COLOR_BGR2HSV)\n",
    "\n"
   ]
  },
  {
   "cell_type": "code",
   "execution_count": 5,
   "id": "68993398",
   "metadata": {},
   "outputs": [
    {
     "data": {
      "text/plain": [
       "-1"
      ]
     },
     "execution_count": 5,
     "metadata": {},
     "output_type": "execute_result"
    }
   ],
   "source": [
    "cv2.imshow('Frame',img)\n",
    "cv2.imshow('img_rgb',img_rgb)\n",
    "cv2.imshow('img_grey',img_grey)\n",
    "cv2.imshow('HSV',img_HSV)\n",
    "cv2.waitKey(0)"
   ]
  },
  {
   "cell_type": "code",
   "execution_count": 13,
   "id": "f6950eae",
   "metadata": {},
   "outputs": [
    {
     "data": {
      "text/plain": [
       "-1"
      ]
     },
     "execution_count": 13,
     "metadata": {},
     "output_type": "execute_result"
    }
   ],
   "source": [
    "blur_img=cv2.blur(img,(7,7))\n",
    "cv2.imshow('blur_img',blur_img)\n",
    "cv2.waitKey(0)"
   ]
  },
  {
   "cell_type": "code",
   "execution_count": 16,
   "id": "629fa013",
   "metadata": {},
   "outputs": [
    {
     "data": {
      "text/plain": [
       "-1"
      ]
     },
     "execution_count": 16,
     "metadata": {},
     "output_type": "execute_result"
    }
   ],
   "source": [
    "gussian_blur=cv2.GaussianBlur(img,(7,7),3)\n",
    "cv2.imshow('gussian_blur',gussian_blur)\n",
    "cv2.waitKey(0)"
   ]
  },
  {
   "cell_type": "code",
   "execution_count": 18,
   "id": "8b9fd030",
   "metadata": {},
   "outputs": [
    {
     "data": {
      "text/plain": [
       "-1"
      ]
     },
     "execution_count": 18,
     "metadata": {},
     "output_type": "execute_result"
    }
   ],
   "source": [
    "img_medium_blur=cv2.medianBlur(img,7)\n",
    "cv2.imshow('img_medium_blur',img_medium_blur)\n",
    "cv2.waitKey(0)"
   ]
  },
  {
   "cell_type": "markdown",
   "id": "de3c4bf9",
   "metadata": {},
   "source": [
    "noise "
   ]
  },
  {
   "cell_type": "code",
   "execution_count": 20,
   "id": "cd43cc13",
   "metadata": {},
   "outputs": [
    {
     "data": {
      "text/plain": [
       "-1"
      ]
     },
     "execution_count": 20,
     "metadata": {},
     "output_type": "execute_result"
    }
   ],
   "source": [
    "path=os.path.join('.','data','noisy.jpg')\n",
    "img_noise=cv2.imread(path)\n",
    "cv2.imshow('noisy',img_noise)\n",
    "cv2.waitKey(0)"
   ]
  },
  {
   "cell_type": "code",
   "execution_count": 22,
   "id": "3e466027",
   "metadata": {},
   "outputs": [
    {
     "data": {
      "text/plain": [
       "-1"
      ]
     },
     "execution_count": 22,
     "metadata": {},
     "output_type": "execute_result"
    }
   ],
   "source": [
    "img_medium_blur=cv2.medianBlur(img_noise,7)\n",
    "cv2.imshow('img_medium_blur',img_noise)\n",
    "cv2.imshow('noisy',img_noise)\n",
    "cv2.waitKey(0)"
   ]
  },
  {
   "cell_type": "code",
   "execution_count": null,
   "id": "de6465ca",
   "metadata": {},
   "outputs": [],
   "source": []
  }
 ],
 "metadata": {
  "kernelspec": {
   "display_name": "cv (3.11.9)",
   "language": "python",
   "name": "python3"
  },
  "language_info": {
   "codemirror_mode": {
    "name": "ipython",
    "version": 3
   },
   "file_extension": ".py",
   "mimetype": "text/x-python",
   "name": "python",
   "nbconvert_exporter": "python",
   "pygments_lexer": "ipython3",
   "version": "3.11.9"
  }
 },
 "nbformat": 4,
 "nbformat_minor": 5
}
