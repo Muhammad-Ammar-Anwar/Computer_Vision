{
 "cells": [
  {
   "cell_type": "markdown",
   "id": "466db588",
   "metadata": {},
   "source": [
    "## Read Image"
   ]
  },
  {
   "cell_type": "code",
   "execution_count": 4,
   "id": "c7826139",
   "metadata": {},
   "outputs": [
    {
     "name": "stdout",
     "output_type": "stream",
     "text": [
      "[[[ 45  61  50]\n",
      "  [ 45  61  50]\n",
      "  [ 44  60  49]\n",
      "  ...\n",
      "  [ 54  78  66]\n",
      "  [ 54  78  66]\n",
      "  [ 54  78  66]]\n",
      "\n",
      " [[ 45  61  50]\n",
      "  [ 44  60  49]\n",
      "  [ 44  60  49]\n",
      "  ...\n",
      "  [ 54  78  66]\n",
      "  [ 54  78  66]\n",
      "  [ 54  78  66]]\n",
      "\n",
      " [[ 44  60  49]\n",
      "  [ 43  59  48]\n",
      "  [ 43  59  48]\n",
      "  ...\n",
      "  [ 55  79  67]\n",
      "  [ 55  79  67]\n",
      "  [ 55  79  67]]\n",
      "\n",
      " ...\n",
      "\n",
      " [[ 36  54  47]\n",
      "  [ 36  54  47]\n",
      "  [ 35  53  46]\n",
      "  ...\n",
      "  [ 76 109  95]\n",
      "  [ 76 109  95]\n",
      "  [ 76 109  95]]\n",
      "\n",
      " [[ 36  54  47]\n",
      "  [ 36  54  47]\n",
      "  [ 35  53  46]\n",
      "  ...\n",
      "  [ 76 109  95]\n",
      "  [ 76 109  95]\n",
      "  [ 76 109  95]]\n",
      "\n",
      " [[ 36  54  47]\n",
      "  [ 36  54  47]\n",
      "  [ 35  53  46]\n",
      "  ...\n",
      "  [ 76 109  95]\n",
      "  [ 76 109  95]\n",
      "  [ 76 109  95]]]\n"
     ]
    }
   ],
   "source": [
    "import cv2\n",
    "\n",
    "images=cv2.imread('image.jpg')\n",
    "print(images)"
   ]
  },
  {
   "cell_type": "code",
   "execution_count": 8,
   "id": "9fbacea6",
   "metadata": {},
   "outputs": [
    {
     "data": {
      "text/plain": [
       "(168, 300, 3)"
      ]
     },
     "execution_count": 8,
     "metadata": {},
     "output_type": "execute_result"
    }
   ],
   "source": [
    "images.shape"
   ]
  },
  {
   "cell_type": "code",
   "execution_count": 19,
   "id": "7e184290",
   "metadata": {},
   "outputs": [
    {
     "data": {
      "text/plain": [
       "(168, 300, 3)"
      ]
     },
     "execution_count": 19,
     "metadata": {},
     "output_type": "execute_result"
    }
   ],
   "source": [
    "import os\n",
    "path=r'C:\\Users\\PC\\Documents\\Projects\\Cv\\OpenCv\\image.jpg'\n",
    "image_path=os.path.join('.','data','image.jpg')\n",
    "img=cv2.imread(image_path)\n",
    "img.shape"
   ]
  },
  {
   "cell_type": "markdown",
   "id": "dcec18b4",
   "metadata": {},
   "source": [
    "# Download image"
   ]
  },
  {
   "cell_type": "code",
   "execution_count": 11,
   "id": "145d3d76",
   "metadata": {},
   "outputs": [
    {
     "data": {
      "text/plain": [
       "True"
      ]
     },
     "execution_count": 11,
     "metadata": {},
     "output_type": "execute_result"
    }
   ],
   "source": [
    "cv2.imwrite('imageout.jpg',images)"
   ]
  },
  {
   "cell_type": "code",
   "execution_count": 21,
   "id": "44951477",
   "metadata": {},
   "outputs": [
    {
     "data": {
      "text/plain": [
       "True"
      ]
     },
     "execution_count": 21,
     "metadata": {},
     "output_type": "execute_result"
    }
   ],
   "source": [
    "cv2.imwrite(os.path.join('.','data','image_out.jpg'),img)"
   ]
  },
  {
   "cell_type": "code",
   "execution_count": 23,
   "id": "576fd597",
   "metadata": {},
   "outputs": [
    {
     "data": {
      "text/plain": [
       "-1"
      ]
     },
     "execution_count": 23,
     "metadata": {},
     "output_type": "execute_result"
    }
   ],
   "source": [
    "cv2.imshow('frame',img)\n",
    "cv2.waitKey(0)"
   ]
  },
  {
   "cell_type": "markdown",
   "id": "de47e11e",
   "metadata": {},
   "source": [
    "# For video"
   ]
  },
  {
   "cell_type": "code",
   "execution_count": 5,
   "id": "dcb148d1",
   "metadata": {},
   "outputs": [],
   "source": [
    "import os \n",
    "video_path=os.path.join('.','data','Valorant.mp4')\n",
    "video=cv2.VideoCapture(video_path)"
   ]
  },
  {
   "cell_type": "code",
   "execution_count": 6,
   "id": "5937c110",
   "metadata": {},
   "outputs": [
    {
     "ename": "",
     "evalue": "",
     "output_type": "error",
     "traceback": [
      "\u001b[1;31mThe Kernel crashed while executing code in the current cell or a previous cell. \n",
      "\u001b[1;31mPlease review the code in the cell(s) to identify a possible cause of the failure. \n",
      "\u001b[1;31mClick <a href='https://aka.ms/vscodeJupyterKernelCrash'>here</a> for more info. \n",
      "\u001b[1;31mView Jupyter <a href='command:jupyter.viewOutput'>log</a> for further details."
     ]
    }
   ],
   "source": [
    "    \n",
    "while True:\n",
    "    ret,frame=video.read()\n",
    "    if ret:\n",
    "        cv2.imshow('frame',frame)\n",
    "        cv2.waitKey(2)\n",
    "\n",
    "video.release()\n",
    "cv2.destroyAllWindows()"
   ]
  },
  {
   "cell_type": "markdown",
   "id": "7620dcff",
   "metadata": {},
   "source": [
    "# For webcam"
   ]
  },
  {
   "cell_type": "code",
   "execution_count": null,
   "id": "1969f12e",
   "metadata": {},
   "outputs": [],
   "source": [
    "import cv2\n",
    "\n",
    "webcam=cv2.VideoCapture(0)\n",
    "\n",
    "while True:\n",
    "    ret,frame=webcam.read()\n",
    "    cv2.imshow('frame',frame)\n",
    "    if cv2.waitKey(40) & 0xFF == ord('q'):\n",
    "        break\n",
    "\n",
    "\n",
    "webcam.release()\n",
    "cv2.destroyAllWindows()"
   ]
  },
  {
   "cell_type": "code",
   "execution_count": null,
   "id": "2d8294dd",
   "metadata": {},
   "outputs": [],
   "source": []
  }
 ],
 "metadata": {
  "kernelspec": {
   "display_name": "cv (3.11.9)",
   "language": "python",
   "name": "python3"
  },
  "language_info": {
   "codemirror_mode": {
    "name": "ipython",
    "version": 3
   },
   "file_extension": ".py",
   "mimetype": "text/x-python",
   "name": "python",
   "nbconvert_exporter": "python",
   "pygments_lexer": "ipython3",
   "version": "3.11.9"
  }
 },
 "nbformat": 4,
 "nbformat_minor": 5
}
