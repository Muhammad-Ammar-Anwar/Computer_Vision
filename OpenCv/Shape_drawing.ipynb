{
 "cells": [
  {
   "cell_type": "code",
   "execution_count": 1,
   "id": "3390d027",
   "metadata": {},
   "outputs": [],
   "source": [
    "import os \n",
    "import cv2"
   ]
  },
  {
   "cell_type": "code",
   "execution_count": null,
   "id": "48a2f881",
   "metadata": {},
   "outputs": [],
   "source": [
    "img=cv2.imread(os.path.join('.','data','whiteboard.png'))\n",
    "img"
   ]
  },
  {
   "cell_type": "code",
   "execution_count": 3,
   "id": "b647aea6",
   "metadata": {},
   "outputs": [],
   "source": [
    "img=cv2.resize(img,(800,800))"
   ]
  },
  {
   "cell_type": "code",
   "execution_count": null,
   "id": "3c9383cd",
   "metadata": {},
   "outputs": [],
   "source": [
    "cv2.imshow('img',img)\n",
    "cv2.waitKey(0)"
   ]
  },
  {
   "cell_type": "markdown",
   "id": "43f3b861",
   "metadata": {},
   "source": [
    "line"
   ]
  },
  {
   "cell_type": "code",
   "execution_count": null,
   "id": "de9c4acd",
   "metadata": {},
   "outputs": [],
   "source": [
    "line=cv2.line(img, (100,150), (300,450),(0,255,0),3)\n",
    "cv2.imshow('line',line)\n",
    "cv2.waitKey(0)\n"
   ]
  },
  {
   "cell_type": "markdown",
   "id": "f8409acb",
   "metadata": {},
   "source": [
    "rectangle"
   ]
  },
  {
   "cell_type": "code",
   "execution_count": null,
   "id": "7f18c612",
   "metadata": {},
   "outputs": [],
   "source": [
    "rectangle=cv2.rectangle(img,(200,350),(450,600),(0,0,255),5)\n",
    "cv2.imshow('rectangle',rectangle)\n",
    "cv2.waitKey(0)\n"
   ]
  },
  {
   "cell_type": "markdown",
   "id": "abc762bd",
   "metadata": {},
   "source": [
    "circle"
   ]
  },
  {
   "cell_type": "code",
   "execution_count": null,
   "id": "403bf3d4",
   "metadata": {},
   "outputs": [],
   "source": [
    "circle=cv2.circle(img,(500,550),150,(255,0,0),10)\n",
    "cv2.imshow('circle',circle)\n",
    "cv2.waitKey(0)"
   ]
  },
  {
   "cell_type": "markdown",
   "id": "53ee2eec",
   "metadata": {},
   "source": [
    "text"
   ]
  },
  {
   "cell_type": "code",
   "execution_count": null,
   "id": "05a6eccf",
   "metadata": {},
   "outputs": [],
   "source": [
    "TEXT=cv2.putText(img,'Hello World',(200,450),cv2.FONT_HERSHEY_SIMPLEX,2,(255,255,0),2)\n",
    "cv2.imshow('TEXT',TEXT)\n",
    "cv2.waitKey(0)"
   ]
  },
  {
   "cell_type": "markdown",
   "id": "d542318b",
   "metadata": {},
   "source": [
    "# Bounding box"
   ]
  },
  {
   "cell_type": "code",
   "execution_count": 2,
   "id": "f2290312",
   "metadata": {},
   "outputs": [
    {
     "data": {
      "text/plain": [
       "array([[[252, 252, 252],\n",
       "        [252, 252, 252],\n",
       "        [252, 252, 252],\n",
       "        ...,\n",
       "        [253, 253, 253],\n",
       "        [253, 253, 253],\n",
       "        [253, 253, 253]],\n",
       "\n",
       "       [[252, 252, 252],\n",
       "        [252, 252, 252],\n",
       "        [252, 252, 252],\n",
       "        ...,\n",
       "        [253, 253, 253],\n",
       "        [253, 253, 253],\n",
       "        [253, 253, 253]],\n",
       "\n",
       "       [[252, 252, 252],\n",
       "        [252, 252, 252],\n",
       "        [252, 252, 252],\n",
       "        ...,\n",
       "        [253, 253, 253],\n",
       "        [253, 253, 253],\n",
       "        [253, 253, 253]],\n",
       "\n",
       "       ...,\n",
       "\n",
       "       [[255, 255, 255],\n",
       "        [255, 255, 255],\n",
       "        [255, 255, 255],\n",
       "        ...,\n",
       "        [255, 255, 255],\n",
       "        [255, 255, 255],\n",
       "        [255, 255, 255]],\n",
       "\n",
       "       [[255, 255, 255],\n",
       "        [255, 255, 255],\n",
       "        [255, 255, 255],\n",
       "        ...,\n",
       "        [255, 255, 255],\n",
       "        [255, 255, 255],\n",
       "        [255, 255, 255]],\n",
       "\n",
       "       [[255, 255, 255],\n",
       "        [255, 255, 255],\n",
       "        [255, 255, 255],\n",
       "        ...,\n",
       "        [255, 255, 255],\n",
       "        [255, 255, 255],\n",
       "        [255, 255, 255]]], shape=(1847, 3000, 3), dtype=uint8)"
      ]
     },
     "execution_count": 2,
     "metadata": {},
     "output_type": "execute_result"
    }
   ],
   "source": [
    "path=os.path.join('.','data','bird.jpg')\n",
    "img=cv2.imread(path)\n",
    "img"
   ]
  },
  {
   "cell_type": "code",
   "execution_count": null,
   "id": "c2baf5d0",
   "metadata": {},
   "outputs": [],
   "source": [
    "img=cv2.resize(img,(800,800))"
   ]
  },
  {
   "cell_type": "code",
   "execution_count": 4,
   "id": "b6eb8700",
   "metadata": {},
   "outputs": [],
   "source": [
    "img_gray=cv2.cvtColor(img,cv2.COLOR_BGR2GRAY)\n",
    "ret,thresh=cv2.threshold(img_gray,127,255,cv2.THRESH_BINARY_INV)\n",
    "counters,hierarchy=cv2.findContours(thresh,cv2.RETR_TREE,cv2.CHAIN_APPROX_SIMPLE)"
   ]
  },
  {
   "cell_type": "code",
   "execution_count": 5,
   "id": "6e9c7e97",
   "metadata": {},
   "outputs": [],
   "source": [
    "for cnt in counters:\n",
    "    if cv2.contourArea(cnt) > 200:\n",
    "        #cv2.drawContours(img,cnt,-1,(0,255,0),1)\n",
    "        x1,y1,w,h=cv2.boundingRect(cnt)\n",
    "        cv2.rectangle(img,(x1,y1),(x1 + w,y1 +h),(0,255,0),2)"
   ]
  },
  {
   "cell_type": "code",
   "execution_count": 6,
   "id": "be4e1116",
   "metadata": {},
   "outputs": [
    {
     "data": {
      "text/plain": [
       "-1"
      ]
     },
     "execution_count": 6,
     "metadata": {},
     "output_type": "execute_result"
    }
   ],
   "source": [
    "\n",
    "cv2.imshow('img',img)\n",
    "cv2.imshow('img_gray',img_gray)\n",
    "cv2.imshow('thresh',thresh)\n",
    "cv2.waitKey(0)"
   ]
  },
  {
   "cell_type": "code",
   "execution_count": null,
   "id": "17c0ebf4",
   "metadata": {},
   "outputs": [],
   "source": []
  }
 ],
 "metadata": {
  "kernelspec": {
   "display_name": "cv (3.11.9)",
   "language": "python",
   "name": "python3"
  },
  "language_info": {
   "codemirror_mode": {
    "name": "ipython",
    "version": 3
   },
   "file_extension": ".py",
   "mimetype": "text/x-python",
   "name": "python",
   "nbconvert_exporter": "python",
   "pygments_lexer": "ipython3",
   "version": "3.11.9"
  }
 },
 "nbformat": 4,
 "nbformat_minor": 5
}
