{
 "cells": [
  {
   "cell_type": "code",
   "execution_count": 1,
   "id": "4e6747fa",
   "metadata": {},
   "outputs": [],
   "source": [
    "import numpy as np\n",
    "import cv2\n",
    "from PIL import Image"
   ]
  },
  {
   "cell_type": "code",
   "execution_count": null,
   "id": "6d0ba246",
   "metadata": {},
   "outputs": [],
   "source": [
    "def get_limits(color):\n",
    "    c = np.uint8([[[color[0], color[1], color[2]]]])  # shape (1, 1, 3)\n",
    "\n",
    "    hsvc=cv2.cvtColor(c,cv2.COLOR_BGR2HSV)\n",
    "\n",
    "    lowerlimit=hsvc[0][0][0] - 10, 100, 100\n",
    "    upperlimit=hsvc[0][0][0] + 10, 255, 255\n",
    "\n",
    "    lowerlimit = np.array(lowerlimit,dtype=np.uint8)\n",
    "    upperlimit = np.array(upperlimit, dtype=np.uint8)\n",
    "\n",
    "    return lowerlimit,upperlimit"
   ]
  },
  {
   "cell_type": "code",
   "execution_count": 3,
   "id": "647a1e5d",
   "metadata": {},
   "outputs": [],
   "source": [
    "yellow=[0,255,255] "
   ]
  },
  {
   "cell_type": "code",
   "execution_count": 4,
   "id": "d5ca7532",
   "metadata": {},
   "outputs": [],
   "source": [
    "cap = cv2.VideoCapture(0)\n",
    "while True:\n",
    "    ret,frames= cap.read()\n",
    "\n",
    "    hsvImage=cv2.cvtColor(frames,cv2.COLOR_BGR2HSV)\n",
    "    lowerlimit,upperlimit = get_limits(color=yellow)\n",
    "\n",
    "    mask = cv2.inRange(hsvImage,lowerlimit,upperlimit)\n",
    "\n",
    "    mask_ = Image.fromarray(mask)\n",
    "\n",
    "    bbox=mask_.getbbox()\n",
    "    \n",
    "    if bbox is not None:\n",
    "        x1,y1,x2,y2=bbox\n",
    "\n",
    "        frames=cv2.rectangle(frames, (x1,y1), (x2,y2), (0,255,0), 5)\n",
    "\n",
    "    cv2.imshow('frame',frames)\n",
    "    \n",
    "    if cv2.waitKey(1) & 0xFF == ord('q'):\n",
    "        break\n",
    "\n",
    "cap.release()\n",
    "\n",
    "cv2.destroyAllWindows()\n"
   ]
  },
  {
   "cell_type": "code",
   "execution_count": null,
   "id": "31c9d5ad",
   "metadata": {},
   "outputs": [],
   "source": []
  }
 ],
 "metadata": {
  "kernelspec": {
   "display_name": "color (3.11.9)",
   "language": "python",
   "name": "python3"
  },
  "language_info": {
   "codemirror_mode": {
    "name": "ipython",
    "version": 3
   },
   "file_extension": ".py",
   "mimetype": "text/x-python",
   "name": "python",
   "nbconvert_exporter": "python",
   "pygments_lexer": "ipython3",
   "version": "3.11.9"
  }
 },
 "nbformat": 4,
 "nbformat_minor": 5
}
