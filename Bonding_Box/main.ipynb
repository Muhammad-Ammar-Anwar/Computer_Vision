{
 "cells": [
  {
   "cell_type": "code",
   "execution_count": 2,
   "id": "ecee36a2",
   "metadata": {},
   "outputs": [],
   "source": [
    "import cv2\n",
    "import os\n",
    "import mediapipe as mp\n",
    "import argparse"
   ]
  },
  {
   "cell_type": "code",
   "execution_count": 3,
   "id": "b1a8edae",
   "metadata": {},
   "outputs": [
    {
     "data": {
      "text/plain": [
       "-1"
      ]
     },
     "execution_count": 3,
     "metadata": {},
     "output_type": "execute_result"
    }
   ],
   "source": [
    "path='./data/face.jpg'\n",
    "img=cv2.imread(path)\n",
    "cv2.imshow('img',img)\n",
    "cv2.waitKey(0)"
   ]
  },
  {
   "cell_type": "code",
   "execution_count": 10,
   "id": "cfd1c506",
   "metadata": {},
   "outputs": [],
   "source": [
    "H,W,_=img.shape"
   ]
  },
  {
   "cell_type": "code",
   "execution_count": 11,
   "id": "640fc1f0",
   "metadata": {},
   "outputs": [
    {
     "name": "stderr",
     "output_type": "stream",
     "text": [
      "c:\\Users\\PC\\Documents\\Projects\\Cv\\face_blur\\blur\\Lib\\site-packages\\google\\protobuf\\symbol_database.py:55: UserWarning: SymbolDatabase.GetPrototype() is deprecated. Please use message_factory.GetMessageClass() instead. SymbolDatabase.GetPrototype() will be removed soon.\n",
      "  warnings.warn('SymbolDatabase.GetPrototype() is deprecated. Please '\n"
     ]
    }
   ],
   "source": [
    "mp_face_detection=mp.solutions.face_detection\n",
    "\n",
    "with mp_face_detection.FaceDetection(model_selection=0,min_detection_confidence=0.5) as face_detection:\n",
    "    img_rgb= cv2.cvtColor(img,cv2.COLOR_BGR2RGB)\n",
    "    out= face_detection.process(img_rgb)\n",
    "    #print(out.detections)\n",
    "\n",
    "    if out.detections is not None:\n",
    "        for detection in out.detections:\n",
    "            location_data = detection.location_data\n",
    "            bbox = location_data.relative_bounding_box\n",
    "\n",
    "            x1,y1,w,h=bbox.xmin,bbox.ymin,bbox.width,bbox.height\n",
    "            x1=int(x1 * W)\n",
    "            y1=int(y1 * H)\n",
    "            w=int(w * W)\n",
    "            h=int(h * H)\n",
    "\n",
    "            #img = cv2.rectangle(img, (x1, y1), (x1 + w, y1 + h), (0, 255, 0), 10)\n",
    "\n",
    "    \n",
    "\n"
   ]
  },
  {
   "cell_type": "code",
   "execution_count": 12,
   "id": "cb66475f",
   "metadata": {},
   "outputs": [],
   "source": [
    "# cv2.imshow('img',img)\n",
    "# cv2.waitKey(0)"
   ]
  },
  {
   "cell_type": "code",
   "execution_count": 13,
   "id": "bebf3468",
   "metadata": {},
   "outputs": [],
   "source": [
    "img[y1:y1 +h,x1:x1+w, :] = cv2.blur(img[y1:y1 +h,x1:x1+w, :],(30,30))"
   ]
  },
  {
   "cell_type": "code",
   "execution_count": 14,
   "id": "2d4db834",
   "metadata": {},
   "outputs": [
    {
     "data": {
      "text/plain": [
       "-1"
      ]
     },
     "execution_count": 14,
     "metadata": {},
     "output_type": "execute_result"
    }
   ],
   "source": [
    "cv2.imshow('img',img)\n",
    "cv2.waitKey(0)"
   ]
  },
  {
   "cell_type": "code",
   "execution_count": 10,
   "id": "d42056ee",
   "metadata": {},
   "outputs": [
    {
     "data": {
      "text/plain": [
       "True"
      ]
     },
     "execution_count": 10,
     "metadata": {},
     "output_type": "execute_result"
    }
   ],
   "source": [
    "output_dir='./data/output'\n",
    "if not os.path.exists(output_dir):\n",
    "    os.makedirs(output_dir)\n",
    "cv2.imwrite(os.path.join(output_dir,'output.png'),img)"
   ]
  },
  {
   "cell_type": "markdown",
   "id": "6fb175ec",
   "metadata": {},
   "source": [
    "For webcam"
   ]
  },
  {
   "cell_type": "code",
   "execution_count": null,
   "id": "6d09a916",
   "metadata": {},
   "outputs": [],
   "source": [
    "def process_img(img,face_detection):\n",
    "    \n",
    "    H,W,_=img.shape\n",
    "\n",
    "    img_rgb= cv2.cvtColor(img,cv2.COLOR_BGR2RGB)\n",
    "    out= face_detection.process(img_rgb)\n",
    "    H,W,_=img.shape\n",
    "    #print(out.detections)\n",
    "\n",
    "    if out.detections is not None:\n",
    "        for detection in out.detections:\n",
    "            location_data = detection.location_data\n",
    "            bbox = location_data.relative_bounding_box\n",
    "\n",
    "            x1,y1,w,h=bbox.xmin,bbox.ymin,bbox.width,bbox.height\n",
    "            x1=int(x1 * W)\n",
    "            y1=int(y1 * H)\n",
    "            w=int(w * W)\n",
    "            h=int(h * H)\n",
    "\n",
    "            #img = cv2.rectangle(img, (x1, y1), (x1 + w, y1 + h), (0, 255, 0), 10)\n",
    "            img[y1:y1 +h,x1:x1+w, :] = cv2.blur(img[y1:y1 +h,x1:x1+w, :],(30,30))\n",
    "    \n",
    "    return img\n",
    "    \n"
   ]
  },
  {
   "cell_type": "code",
   "execution_count": 6,
   "id": "a895a812",
   "metadata": {},
   "outputs": [],
   "source": [
    "default_image_path = os.path.join('.', \"data\", \"output.png\")"
   ]
  },
  {
   "cell_type": "code",
   "execution_count": 12,
   "id": "e286cde7",
   "metadata": {},
   "outputs": [],
   "source": [
    "args=argparse.ArgumentParser()\n",
    "args.add_argument(\"--mode\",default='video')\n",
    "args.add_argument(\"--filePath\",default=default_image_path)\n",
    "\n",
    "args=args.parse_args()\n"
   ]
  },
  {
   "cell_type": "code",
   "execution_count": null,
   "id": "b096e233",
   "metadata": {},
   "outputs": [],
   "source": [
    "mp_face_detection=mp.solutions.face_detection\n",
    "with mp_face_detection.FaceDetection(model_selection=0,min_detection_confidence=0.5) as face_detection:\n",
    "    if args.mode in [\"image\"]:\n",
    "        #img=cv2.imread(args.filePath)\n",
    "\n",
    "        \n",
    "        img=process_img(img, face_detection)\n",
    "\n",
    "        cv2.imwrite(os.path.join(output_dir,'output.png'),img)\n",
    "\n",
    "    elif args.mode in ['video']:\n",
    "\n",
    "\n",
    "        cap=cv2.VideoCapture(args.filePath)\n",
    "        ret,frame=cap.read()\n",
    "\n",
    "        output_video = cv2.VideoWriter(os.path.join(output_dir,'output.mp4'),\n",
    "                                       cv2.VideoWriter_fourcc(*'MP4V'),\n",
    "                                       25,\n",
    "                                       (frame.shape[1],frame.shape[0]))\n",
    "\n",
    "        while ret:\n",
    "            frame=process_img(frame,face_detection)\n",
    "\n",
    "            output_video.write(frame)\n",
    "\n",
    "            ret,frame=cap.read()\n",
    "\n",
    "            \n",
    "        \n",
    "        cap.release()\n",
    "        output_video.release()\n"
   ]
  },
  {
   "cell_type": "code",
   "execution_count": null,
   "id": "f53dbb6a",
   "metadata": {},
   "outputs": [],
   "source": [
    "\n"
   ]
  }
 ],
 "metadata": {
  "kernelspec": {
   "display_name": "blur (3.11.9)",
   "language": "python",
   "name": "python3"
  },
  "language_info": {
   "codemirror_mode": {
    "name": "ipython",
    "version": 3
   },
   "file_extension": ".py",
   "mimetype": "text/x-python",
   "name": "python",
   "nbconvert_exporter": "python",
   "pygments_lexer": "ipython3",
   "version": "3.11.9"
  }
 },
 "nbformat": 4,
 "nbformat_minor": 5
}
